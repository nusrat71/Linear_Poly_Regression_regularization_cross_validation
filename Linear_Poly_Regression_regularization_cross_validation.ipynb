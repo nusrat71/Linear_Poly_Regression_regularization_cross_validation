{
 "nbformat": 4,
 "nbformat_minor": 0,
 "metadata": {
  "colab": {
   "name": "Ques2and3AnswerAI.ipynb",
   "provenance": [],
   "collapsed_sections": []
  },
  "kernelspec": {
   "name": "python3",
   "display_name": "Python 3"
  },
  "language_info": {
   "name": "python"
  }
 },
 "cells": [
  {
   "cell_type": "code",
   "execution_count": 275,
   "metadata": {
    "colab": {
     "base_uri": "https://localhost:8080/"
    },
    "id": "OKMKh3m8h8Lv",
    "outputId": "0ce2f319-529b-4dd1-d545-472ba5709882"
   },
   "outputs": [
    {
     "output_type": "stream",
     "name": "stdout",
     "text": [
      "Requirement already satisfied: dpkt in /usr/local/lib/python3.7/dist-packages (1.9.7.2)\n"
     ]
    }
   ],
   "source": [
    "pip install dpkt\n"
   ]
  },
  {
   "cell_type": "code",
   "source": [
    "import dpkt\n",
    "\n",
    "import numpy as np\n",
    "import matplotlib.pyplot as plt\n",
    "import matplotlib.pyplot as plt_special\n",
    "\n",
    "from google.colab import drive\n",
    "drive.mount('/content/grive')"
   ],
   "metadata": {
    "id": "B6KRCY1IxMPT",
    "colab": {
     "base_uri": "https://localhost:8080/"
    },
    "outputId": "f020cda7-4ad5-4ef8-a5cc-7adbd6797410"
   },
   "execution_count": 276,
   "outputs": [
    {
     "output_type": "stream",
     "name": "stdout",
     "text": [
      "Drive already mounted at /content/grive; to attempt to forcibly remount, call drive.mount(\"/content/grive\", force_remount=True).\n"
     ]
    }
   ]
  },
  {
   "cell_type": "markdown",
   "source": [
    "**Implement linear and polynomial regression in any programming language of\n",
    "your choice (e.g., Python/Matlab/R). The training data set consists of the features hw1xtr.dat and their\n",
    "desired outputs hw1ytr.dat. The test data set consists of the features hw1xte.dat and their desired\n",
    "outputs hw1yte.dat.**"
   ],
   "metadata": {
    "id": "83TJffBqlZDa"
   }
  },
  {
   "cell_type": "markdown",
   "source": [
    "**Loading Training and Test Data and plotting them in graph**"
   ],
   "metadata": {
    "id": "FwKOVKIw6IA0"
   }
  },
  {
   "cell_type": "code",
   "source": [
    "\n",
    "xtest= np.loadtxt('/content/grive/MyDrive/hw1xte.dat.txt', unpack=True)\n",
    "ytest= np.loadtxt('/content/grive/MyDrive/hw1yte.dat.txt', unpack=True)\n",
    "xtrain= np.loadtxt('/content/grive/MyDrive/hw1xtr.dat.txt', unpack=True)\n",
    "ytrain= np.loadtxt('/content/grive/MyDrive/hw1ytr.dat.txt', unpack=True)\n",
    " \n",
    " \n",
    "plt.scatter(xtest, ytest)\n",
    "plt.xlabel(\"xtest\")\n",
    "plt.ylabel(\"ytest\")"
   ],
   "metadata": {
    "id": "SxNy0tAk6Wyn",
    "colab": {
     "base_uri": "https://localhost:8080/",
     "height": 297
    },
    "outputId": "a4bb5b38-44ea-4969-904a-7700edb1aa31"
   },
   "execution_count": 277,
   "outputs": [
    {
     "output_type": "execute_result",
     "data": {
      "text/plain": [
       "Text(0, 0.5, 'ytest')"
      ]
     },
     "metadata": {},
     "execution_count": 277
    },
    {
     "output_type": "display_data",
     "data": {
      "image/png": "[encoded data removed]",
      "text/plain": [
       "<Figure size 576x288 with 1 Axes>"
      ]
     },
     "metadata": {
      "needs_background": "light"
     }
    }
   ]
  },
  {
   "cell_type": "code",
   "source": [
    "plt.scatter(xtrain,ytrain)\n",
    "plt.xlabel(\"xtrain\")\n",
    "plt.ylabel(\"ytrain\")"
   ],
   "metadata": {
    "id": "ERym215969q1",
    "colab": {
     "base_uri": "https://localhost:8080/",
     "height": 297
    },
    "outputId": "5a156420-aef0-474f-c688-f820a05677be"
   },
   "execution_count": 278,
   "outputs": [
    {
     "output_type": "execute_result",
     "data": {
      "text/plain": [
       "Text(0, 0.5, 'ytrain')"
      ]
     },
     "metadata": {},
     "execution_count": 278
    },
    {
     "output_type": "display_data",
     "data": {
      "image/png": "[encoded data removed]",
      "text/plain": [
       "<Figure size 576x288 with 1 Axes>"
      ]
     },
     "metadata": {
      "needs_background": "light"
     }
    }
   ]
  },
  {
   "cell_type": "markdown",
   "source": [
    "\n",
    "\n",
    "\n",
    "\n",
    " \n"
   ],
   "metadata": {
    "id": "g9NKBIYzloXR"
   }
  },
  {
   "cell_type": "code",
   "source": [
    "xtest"
   ],
   "metadata": {
    "id": "4RiwYY50jk-6",
    "colab": {
     "base_uri": "https://localhost:8080/"
    },
    "outputId": "2630979a-d3ce-42ba-e2d5-a963a67dcc75"
   },
   "execution_count": 279,
   "outputs": [
    {
     "output_type": "execute_result",
     "data": {
      "text/plain": [
       "array([2.3114047 , 2.6561232 , 1.7697643 , 0.55082798, 0.81445064,\n",
       "       0.87971425, 3.1300948 , 2.831442  , 2.0959708 , 3.9161472 ,\n",
       "       1.0678487 , 2.913461  , 1.4881792 , 1.934699  , 3.1029632 ,\n",
       "       3.7949112 , 2.6665423 , 2.9375816 , 2.5834993 , 0.07600009])"
      ]
     },
     "metadata": {},
     "execution_count": 279
    }
   ]
  },
  {
   "cell_type": "code",
   "source": [
    "testx=np.array(xtest)\n",
    "testxmatrix=np.atleast_2d(testx).T\n",
    "testy=np.array(ytest)\n",
    "testymatrix=np.atleast_2d(testy).T"
   ],
   "metadata": {
    "id": "t-Rco-ckJKV-"
   },
   "execution_count": 280,
   "outputs": []
  },
  {
   "cell_type": "code",
   "source": [
    "vector1 = np.array(xtrain)\n",
    "vector2=np.atleast_2d(vector1).T\n",
    "vectorMatrix_x=np.matrix(vector2)\n",
    "numOfRows = np. size(vector2, 0)\n",
    "onesVector=np.ones((numOfRows, 1))\n",
    "arr = np.column_stack((onesVector,vector2 )) #Adding a column vector\n",
    "arr=np.matrix(arr)\n",
    "arr_transpose = arr.transpose()\n",
    "parameter1 = np.dot(arr_transpose,arr)\n",
    "inv_arr=np.linalg.inv(parameter1)\n",
    "\n",
    "vectory = np.array(ytrain)\n",
    "vectory=np.atleast_2d(vectory).T\n",
    "vectorMatrixy=np.matrix(vectory)\n",
    "parameter2 = np.dot(arr_transpose,vectorMatrixy)"
   ],
   "metadata": {
    "id": "-z0GoIsE-J-K"
   },
   "execution_count": 281,
   "outputs": []
  },
  {
   "cell_type": "markdown",
   "source": [
    "**Weight Vector**"
   ],
   "metadata": {
    "id": "uWFPKxFvUzY0"
   }
  },
  {
   "cell_type": "code",
   "source": [
    "weight_vector = np.dot(inv_arr,parameter2) \n",
    "weight_vector"
   ],
   "metadata": {
    "id": "C0s5vRS2nqsL",
    "colab": {
     "base_uri": "https://localhost:8080/"
    },
    "outputId": "5950358a-771b-46fd-e0b5-737b06fb4ea9"
   },
   "execution_count": 282,
   "outputs": [
    {
     "output_type": "execute_result",
     "data": {
      "text/plain": [
       "matrix([[3.71375748],\n",
       "        [0.76663448]])"
      ]
     },
     "metadata": {},
     "execution_count": 282
    }
   ]
  },
  {
   "cell_type": "code",
   "source": [
    "LRy1= np.dot(arr,weight_vector) #Calculating y value"
   ],
   "metadata": {
    "id": "9jWNqbbArx_l"
   },
   "execution_count": 283,
   "outputs": []
  },
  {
   "cell_type": "markdown",
   "source": [
    "**Plotting both the linear regression line\n",
    "and the training data on the same graph**"
   ],
   "metadata": {
    "id": "tfz3wqfxVNnL"
   }
  },
  {
   "cell_type": "code",
   "source": [
    "plt.plot(vector2,LRy1,color=\"red\", label='linear regression line')\n",
    "plt.scatter(xtrain,ytrain,label='train data')\n",
    "\n",
    "plt.xlabel(\"x\")\n",
    "plt.ylabel(\"y\")\n",
    "plt.legend()\n"
   ],
   "metadata": {
    "id": "8y_qdfT3tZ_u",
    "colab": {
     "base_uri": "https://localhost:8080/",
     "height": 297
    },
    "outputId": "f3b7971d-fefa-466e-8c17-9f49d95ea134"
   },
   "execution_count": 284,
   "outputs": [
    {
     "output_type": "execute_result",
     "data": {
      "text/plain": [
       "<matplotlib.legend.Legend at 0x7f8baee7aa90>"
      ]
     },
     "metadata": {},
     "execution_count": 284
    },
    {
     "output_type": "display_data",
     "data": {
      "image/png": "[encoded data removed]",
      "text/plain": [
       "<Figure size 576x288 with 1 Axes>"
      ]
     },
     "metadata": {
      "needs_background": "light"
     }
    }
   ]
  },
  {
   "cell_type": "markdown",
   "source": [
    "**Average error on the training set (Linear Regression)**"
   ],
   "metadata": {
    "id": "InP6yWvdovNa"
   }
  },
  {
   "cell_type": "code",
   "source": [
    "ytrainVector = np.array(ytrain)\n",
    "ytrainVector=np.atleast_2d(ytrainVector).T\n",
    "err1=LRy1-ytrainVector\n",
    "err1\n",
    "err2=np.square(err1)\n",
    "err2.mean()"
   ],
   "metadata": {
    "id": "cY20gEfB2Wbx",
    "colab": {
     "base_uri": "https://localhost:8080/"
    },
    "outputId": "3f4c74ee-c2f6-4007-f594-6d3f173285a4"
   },
   "execution_count": 285,
   "outputs": [
    {
     "output_type": "execute_result",
     "data": {
      "text/plain": [
       "0.5085888601660319"
      ]
     },
     "metadata": {},
     "execution_count": 285
    }
   ]
  },
  {
   "cell_type": "markdown",
   "source": [],
   "metadata": {
    "id": "YtUpTdqypBKV"
   }
  },
  {
   "cell_type": "code",
   "source": [
    "vec1 = np.array(xtest)\n",
    "vec2=np.atleast_2d(vec1).T\n",
    "numOfRows_vec2 = np. size(vec2, 0)\n",
    "onesVector_test_c=np.ones((numOfRows_vec2, 1))\n",
    "arr_test_c = np.column_stack((onesVector_test_c,vec2 ))\n",
    "arr_test_c=np.matrix(arr_test_c)\n",
    "LRy1_testc= np.dot(arr_test_c,weight_vector)\n",
    "LRy1_testc"
   ],
   "metadata": {
    "id": "4VTmcFqdxAXs",
    "colab": {
     "base_uri": "https://localhost:8080/"
    },
    "outputId": "58c7617b-b45e-427a-c34f-ed2a099ea57d"
   },
   "execution_count": 286,
   "outputs": [
    {
     "output_type": "execute_result",
     "data": {
      "text/plain": [
       "matrix([[5.48576001],\n",
       "        [5.7500331 ],\n",
       "        [5.07051981],\n",
       "        [4.1360412 ],\n",
       "        [4.33814342],\n",
       "        [4.38817676],\n",
       "        [6.11339607],\n",
       "        [5.88443854],\n",
       "        [5.32060096],\n",
       "        [6.71601094],\n",
       "        [4.53240711],\n",
       "        [5.94731713],\n",
       "        [4.85464696],\n",
       "        [5.19696444],\n",
       "        [6.09259605],\n",
       "        [6.62306724],\n",
       "        [5.75802074],\n",
       "        [5.96580881],\n",
       "        [5.69435711],\n",
       "        [3.77202177]])"
      ]
     },
     "metadata": {},
     "execution_count": 286
    }
   ]
  },
  {
   "cell_type": "markdown",
   "source": [
    "**Plotting both the linear regression line\n",
    "and the test data on the same graph**"
   ],
   "metadata": {
    "id": "TSNieop9b-_7"
   }
  },
  {
   "cell_type": "code",
   "source": [
    "plt.plot(vec2,LRy1_testc,\"red\",color=\"red\", label='linear regression line')\n",
    "plt.scatter(xtest,ytest,label='test data')\n",
    "plt.xlabel(\"x\")\n",
    "plt.ylabel(\"y\")\n",
    "plt.legend()"
   ],
   "metadata": {
    "id": "tDI7S1NzxDxZ",
    "colab": {
     "base_uri": "https://localhost:8080/",
     "height": 297
    },
    "outputId": "18e238be-0658-4532-beb3-bc5dfd96258f"
   },
   "execution_count": 287,
   "outputs": [
    {
     "output_type": "execute_result",
     "data": {
      "text/plain": [
       "<matplotlib.legend.Legend at 0x7f8baed85c90>"
      ]
     },
     "metadata": {},
     "execution_count": 287
    },
    {
     "output_type": "display_data",
     "data": {
      "image/png": "[encoded data removed]",
      "text/plain": [
       "<Figure size 576x288 with 1 Axes>"
      ]
     },
     "metadata": {
      "needs_background": "light"
     }
    }
   ]
  },
  {
   "cell_type": "markdown",
   "source": [
    "**Average error on the test set (Linear Regression)**"
   ],
   "metadata": {
    "id": "OEKtNXT4OX1_"
   }
  },
  {
   "cell_type": "code",
   "source": [
    "ytestcVector = np.array(ytest)\n",
    "ytestcVector=np.atleast_2d(ytestcVector).T\n",
    "err1_testc=LRy1_testc-ytestcVector\n",
    "err1_testc\n",
    "err2_testc=np.square(err1_testc)\n",
    "err2_testc.mean()"
   ],
   "metadata": {
    "id": "aNMefnq9xOpe",
    "colab": {
     "base_uri": "https://localhost:8080/"
    },
    "outputId": "35e707b8-9162-44de-f81a-7a4572e1fb4d"
   },
   "execution_count": 288,
   "outputs": [
    {
     "output_type": "execute_result",
     "data": {
      "text/plain": [
       "0.4439118579077471"
      ]
     },
     "metadata": {},
     "execution_count": 288
    }
   ]
  },
  {
   "cell_type": "markdown",
   "source": [],
   "metadata": {
    "id": "q2rC567_8PG5"
   }
  },
  {
   "cell_type": "code",
   "source": [
    "x2=np.square(vector2)\n",
    "x2x1 = np.column_stack((x2,vector2 )) \n",
    "x2Final = np.column_stack((x2x1,onesVector )) #adding new features x^2\n",
    "x2Final=np.fliplr(x2Final)\n",
    "x2Final=np.matrix(x2Final)\n",
    "x2Final_Transpose=x2Final.transpose()\n",
    "\n",
    "x2param1=np.dot(x2Final_Transpose,x2Final)\n",
    "inv_arr_x2=np.linalg.inv(x2param1)\n",
    "x2param2=np.dot(x2Final_Transpose,vectorMatrixy)\n"
   ],
   "metadata": {
    "id": "H_jEXj-28VRP"
   },
   "execution_count": 289,
   "outputs": []
  },
  {
   "cell_type": "markdown",
   "source": [],
   "metadata": {
    "id": "Wg-Ax-CUr2iQ"
   }
  },
  {
   "cell_type": "code",
   "source": [
    "x2weightvector=np.dot(inv_arr_x2,x2param2)\n",
    "x2weightvector\n"
   ],
   "metadata": {
    "id": "EH9jzLAnEFag",
    "colab": {
     "base_uri": "https://localhost:8080/"
    },
    "outputId": "ca3c6519-0463-4469-e822-c2295e0ca414"
   },
   "execution_count": 290,
   "outputs": [
    {
     "output_type": "execute_result",
     "data": {
      "text/plain": [
       "matrix([[ 2.77944073],\n",
       "        [ 2.69130097],\n",
       "        [-0.55139798]])"
      ]
     },
     "metadata": {},
     "execution_count": 290
    }
   ]
  },
  {
   "cell_type": "markdown",
   "source": [
    "**New X**"
   ],
   "metadata": {
    "id": "NZZXYK_EsBz_"
   }
  },
  {
   "cell_type": "code",
   "source": [
    "x_new=np.linspace(0,3.5,100)\n",
    "x_new = np.array(x_new)\n",
    "x_new=np.atleast_2d(x_new).T\n",
    "x_new=np.matrix(x_new)\n",
    "x_new\n",
    "x_new_2=np.square(x_new)\n",
    "x_new_2\n",
    "x_new2_x = np.column_stack((x_new_2,x_new ))\n",
    "new_onesVector=np.ones((100, 1))\n",
    "#x_new_final= np.column_stack((x_new2_x,new_onesVector ))\n",
    "\n",
    "##REVERSE\n",
    "x_new_final=np.column_stack((new_onesVector,x_new))\n",
    "x_new_final=np.column_stack((x_new_final,x_new_2))\n"
   ],
   "metadata": {
    "id": "PC_LtTyqr_ix"
   },
   "execution_count": 291,
   "outputs": []
  },
  {
   "cell_type": "markdown",
   "source": [
    "**Calculating y for 2nd order polynomial regression line**"
   ],
   "metadata": {
    "id": "v0Hf6pBKt02P"
   }
  },
  {
   "cell_type": "code",
   "source": [
    "newLR2=np.dot(x_new_final,x2weightvector)"
   ],
   "metadata": {
    "id": "jTRbmKIVsKme"
   },
   "execution_count": 292,
   "outputs": []
  },
  {
   "cell_type": "markdown",
   "source": [
    "**Plotting both the 2nd order polynomial regression line\n",
    "and the training data on the same graph**"
   ],
   "metadata": {
    "id": "4-vMMt5NcG72"
   }
  },
  {
   "cell_type": "code",
   "source": [
    "plt.plot(x_new,newLR2,color=\"red\", label='2nd order polynomial regression line')\n",
    "plt.scatter(xtrain,ytrain, label='train data')\n",
    "plt.xlabel(\"x\")\n",
    "plt.ylabel(\"y\")\n",
    "plt.legend()\n"
   ],
   "metadata": {
    "id": "4qj6u_AxA7Pq",
    "colab": {
     "base_uri": "https://localhost:8080/",
     "height": 297
    },
    "outputId": "d0352e28-9eb5-46b3-9429-4d3e486f8a24"
   },
   "execution_count": 293,
   "outputs": [
    {
     "output_type": "execute_result",
     "data": {
      "text/plain": [
       "<matplotlib.legend.Legend at 0x7f8bafb6d4d0>"
      ]
     },
     "metadata": {},
     "execution_count": 293
    },
    {
     "output_type": "display_data",
     "data": {
      "image/png": "[encoded data removed]",
      "text/plain": [
       "<Figure size 576x288 with 1 Axes>"
      ]
     },
     "metadata": {
      "needs_background": "light"
     }
    }
   ]
  },
  {
   "cell_type": "markdown",
   "source": [
    "**creating xtest 2nd order polynomial**"
   ],
   "metadata": {
    "id": "ilc_CJep8fT5"
   }
  },
  {
   "cell_type": "code",
   "source": [
    "x_test_2nd = np.array(xtest)\n",
    "x_test_2nd=np.atleast_2d(x_test_2nd).T\n",
    "x_test_2nd=np.matrix(x_test_2nd)\n",
    "new_onesVector_x_test_2nd=np.ones((np.size(x_test_2nd), 1))\n",
    "x_test_2nd_1 = np.column_stack((new_onesVector_x_test_2nd, x_test_2nd ))\n",
    "x_test_2nd_2=np.column_stack((x_test_2nd_1, np.square(x_test_2nd) ))\n",
    "x_test_2nd_2\n"
   ],
   "metadata": {
    "id": "wsubb35P8BWi",
    "colab": {
     "base_uri": "https://localhost:8080/"
    },
    "outputId": "4fc9731e-40ea-4b62-bd36-b55efc2bf0df"
   },
   "execution_count": 294,
   "outputs": [
    {
     "output_type": "execute_result",
     "data": {
      "text/plain": [
       "matrix([[1.00000000e+00, 2.31140470e+00, 5.34259169e+00],\n",
       "        [1.00000000e+00, 2.65612320e+00, 7.05499045e+00],\n",
       "        [1.00000000e+00, 1.76976430e+00, 3.13206568e+00],\n",
       "        [1.00000000e+00, 5.50827980e-01, 3.03411464e-01],\n",
       "        [1.00000000e+00, 8.14450640e-01, 6.63329845e-01],\n",
       "        [1.00000000e+00, 8.79714250e-01, 7.73897162e-01],\n",
       "        [1.00000000e+00, 3.13009480e+00, 9.79749346e+00],\n",
       "        [1.00000000e+00, 2.83144200e+00, 8.01706380e+00],\n",
       "        [1.00000000e+00, 2.09597080e+00, 4.39309359e+00],\n",
       "        [1.00000000e+00, 3.91614720e+00, 1.53362089e+01],\n",
       "        [1.00000000e+00, 1.06784870e+00, 1.14030085e+00],\n",
       "        [1.00000000e+00, 2.91346100e+00, 8.48825500e+00],\n",
       "        [1.00000000e+00, 1.48817920e+00, 2.21467733e+00],\n",
       "        [1.00000000e+00, 1.93469900e+00, 3.74306022e+00],\n",
       "        [1.00000000e+00, 3.10296320e+00, 9.62838062e+00],\n",
       "        [1.00000000e+00, 3.79491120e+00, 1.44013510e+01],\n",
       "        [1.00000000e+00, 2.66654230e+00, 7.11044784e+00],\n",
       "        [1.00000000e+00, 2.93758160e+00, 8.62938566e+00],\n",
       "        [1.00000000e+00, 2.58349930e+00, 6.67446863e+00],\n",
       "        [1.00000000e+00, 7.60000920e-02, 5.77601398e-03]])"
      ]
     },
     "metadata": {},
     "execution_count": 294
    }
   ]
  },
  {
   "cell_type": "markdown",
   "source": [
    "**Plotting both the 2nd order polynomial regression line\n",
    "and the test data on the same graph**"
   ],
   "metadata": {
    "id": "4N52tMvQZLUy"
   }
  },
  {
   "cell_type": "code",
   "source": [
    "plt.plot(x_new,newLR2,color=\"red\", label='2nd order polynomial regression line')\n",
    "plt.scatter(xtest,ytest, label='test data')\n",
    "plt.xlabel(\"x\")\n",
    "plt.ylabel(\"y\")\n",
    "plt.legend()"
   ],
   "metadata": {
    "colab": {
     "base_uri": "https://localhost:8080/",
     "height": 297
    },
    "id": "a8uMwBy8BH2I",
    "outputId": "50922a7e-db2f-4707-b020-6b08b309cd1e"
   },
   "execution_count": 295,
   "outputs": [
    {
     "output_type": "execute_result",
     "data": {
      "text/plain": [
       "<matplotlib.legend.Legend at 0x7f8baf794510>"
      ]
     },
     "metadata": {},
     "execution_count": 295
    },
    {
     "output_type": "display_data",
     "data": {
      "image/png": "[encoded data removed]",
      "text/plain": [
       "<Figure size 576x288 with 1 Axes>"
      ]
     },
     "metadata": {
      "needs_background": "light"
     }
    }
   ]
  },
  {
   "cell_type": "markdown",
   "source": [
    "**Test Error (2nd-order polynomial)**"
   ],
   "metadata": {
    "id": "oeejwv7BF4tH"
   }
  },
  {
   "cell_type": "code",
   "source": [
    "\n",
    "err1_testd=np.dot(x_test_2nd_2,x2weightvector)-testymatrix\n",
    "err1_testd\n",
    "err2_testd=np.square(err1_testd)\n",
    "err2_testd.mean()\n",
    "\n"
   ],
   "metadata": {
    "id": "00ywgQr7vcEN",
    "colab": {
     "base_uri": "https://localhost:8080/"
    },
    "outputId": "e21d1220-0228-4c86-faf2-ddaa62da0e82"
   },
   "execution_count": 296,
   "outputs": [
    {
     "output_type": "execute_result",
     "data": {
      "text/plain": [
       "0.8532633206011649"
      ]
     },
     "metadata": {},
     "execution_count": 296
    }
   ]
  },
  {
   "cell_type": "markdown",
   "source": [
    "**Train Error (2nd-order polynomial)**"
   ],
   "metadata": {
    "id": "ujf09IVXF9Gb"
   }
  },
  {
   "cell_type": "code",
   "source": [
    "err1_traind=np.dot(x2Final,x2weightvector)-vectorMatrixy\n",
    "err1_traind\n",
    "err2_traind=np.square(err1_traind)\n",
    "err2_traind.mean()"
   ],
   "metadata": {
    "id": "JulK9lzUzRdq",
    "colab": {
     "base_uri": "https://localhost:8080/"
    },
    "outputId": "f39272ce-6232-455b-e4ca-dff6fe4a3cb4"
   },
   "execution_count": 297,
   "outputs": [
    {
     "output_type": "execute_result",
     "data": {
      "text/plain": [
       "0.20098523198396653"
      ]
     },
     "metadata": {},
     "execution_count": 297
    }
   ]
  },
  {
   "cell_type": "markdown",
   "source": [
    "\n",
    "For linear regression training error= 0.50, test error=0.44. For 2nd order polynomial regression training error=0.20, test error=0.85. If we observe the case of training data, average error has been decreased and so in this case it is a better fit than lenear regression. If we observe the case of test data, average error has been increased and so in this case, it is not a better fit  than linear regression."
   ],
   "metadata": {
    "id": "7xT2aYjKM0WC"
   }
  },
  {
   "cell_type": "markdown",
   "source": [],
   "metadata": {
    "id": "NVvLy3NfjqN4"
   }
  },
  {
   "cell_type": "markdown",
   "source": [
    "Third Order Polynomial"
   ],
   "metadata": {
    "id": "WQ4Zjrp0liHI"
   }
  },
  {
   "cell_type": "code",
   "source": [
    "trainx2_2e=np.square(vectorMatrix_x)\n",
    "trainx3_2e=np.power(vectorMatrix_x,3)\n",
    "size_2e_vectorMatrix_x=np.size(vectorMatrix_x,0)\n",
    "ones_2e=np.ones((size_2e_vectorMatrix_x,1))\n",
    "\n",
    "train_ox=np.column_stack((ones_2e,vectorMatrix_x))\n",
    "trainoxx2=np.column_stack((train_ox,trainx2_2e))\n",
    "trainoxx2x3=np.column_stack((trainoxx2,trainx3_2e))\n",
    "\n",
    "x3param1_2e=np.dot(trainoxx2x3.transpose(),trainoxx2x3)\n",
    "inv_arr_x3_2e=np.linalg.inv(x3param1_2e)\n",
    "x3param2_2e=np.dot(trainoxx2x3.transpose(),vectorMatrixy)\n",
    "\n",
    "x3weightvector_2e=np.dot(inv_arr_x3_2e,x3param2_2e)\n",
    "\n"
   ],
   "metadata": {
    "id": "Ngx0PO5QjmxL"
   },
   "execution_count": 298,
   "outputs": []
  },
  {
   "cell_type": "markdown",
   "source": [
    "**Weight Vector (3rd Order)**"
   ],
   "metadata": {
    "id": "4AM8QU8f-_Lt"
   }
  },
  {
   "cell_type": "code",
   "source": [
    "x3weightvector_2e"
   ],
   "metadata": {
    "colab": {
     "base_uri": "https://localhost:8080/"
    },
    "id": "YUWb029P--Cc",
    "outputId": "fb1cd857-6102-4f91-ac75-a40bdf70425b"
   },
   "execution_count": 299,
   "outputs": [
    {
     "output_type": "execute_result",
     "data": {
      "text/plain": [
       "matrix([[ 2.01341991],\n",
       "        [ 5.9832758 ],\n",
       "        [-2.99881265],\n",
       "        [ 0.46722975]])"
      ]
     },
     "metadata": {},
     "execution_count": 299
    }
   ]
  },
  {
   "cell_type": "code",
   "source": [
    "xnew3_2e=np.power(x_new,3)\n",
    "size_xnew3_2e=np.size(x_new,0)\n",
    "ones_2e_xnew=np.ones((size_xnew3_2e,1))\n",
    "\n",
    "xnew_ox_2e=np.column_stack((ones_2e_xnew,x_new))\n",
    "xnew_oxx2_2e=np.column_stack((xnew_ox_2e,np.square(x_new)))\n",
    "xnew_oxx2x3=np.column_stack((xnew_oxx2_2e,xnew3_2e))"
   ],
   "metadata": {
    "id": "NMsBM_qaptrI"
   },
   "execution_count": 300,
   "outputs": []
  },
  {
   "cell_type": "code",
   "source": [
    "newLR3_2e=np.dot(xnew_oxx2x3,x3weightvector_2e)"
   ],
   "metadata": {
    "id": "nq2CT1OppNC8"
   },
   "execution_count": 301,
   "outputs": []
  },
  {
   "cell_type": "markdown",
   "source": [
    "**Plotting both the 3rd order polynomial regression line\n",
    "and the training data on the same graph**"
   ],
   "metadata": {
    "id": "DRv17_5McpR_"
   }
  },
  {
   "cell_type": "code",
   "source": [
    "plt.plot(x_new,newLR3_2e,color='r',label='3rd order polynomial regression')\n",
    "plt.scatter(xtrain,ytrain,label='train data')\n",
    "plt.xlabel(\"x\")\n",
    "plt.ylabel(\"y\")\n",
    "plt.legend()\n"
   ],
   "metadata": {
    "id": "DY6IDKONq5X9",
    "colab": {
     "base_uri": "https://localhost:8080/",
     "height": 297
    },
    "outputId": "da0bc889-1c45-4cda-8044-b622acb3f80c"
   },
   "execution_count": 302,
   "outputs": [
    {
     "output_type": "execute_result",
     "data": {
      "text/plain": [
       "<matplotlib.legend.Legend at 0x7f8bafe69450>"
      ]
     },
     "metadata": {},
     "execution_count": 302
    },
    {
     "output_type": "display_data",
     "data": {
      "image/png": "[encoded data removed]",
      "text/plain": [
       "<Figure size 576x288 with 1 Axes>"
      ]
     },
     "metadata": {
      "needs_background": "light"
     }
    }
   ]
  },
  {
   "cell_type": "markdown",
   "source": [
    "**Plotting both the 3rd order polynomial regression line\n",
    "and the test data on the same graph**"
   ],
   "metadata": {
    "id": "q423ywhvZTMW"
   }
  },
  {
   "cell_type": "code",
   "source": [
    "plt.plot(x_new,newLR3_2e,color='r',label='3rd order polynomial regression')\n",
    "plt.scatter(xtest,ytest,label='test data')\n",
    "plt.xlabel(\"x\")\n",
    "plt.ylabel(\"y\")\n",
    "plt.legend()"
   ],
   "metadata": {
    "colab": {
     "base_uri": "https://localhost:8080/",
     "height": 297
    },
    "id": "tcbLOxvbZUNX",
    "outputId": "e58e994b-7274-4a4a-f731-867eea8738f6"
   },
   "execution_count": 303,
   "outputs": [
    {
     "output_type": "execute_result",
     "data": {
      "text/plain": [
       "<matplotlib.legend.Legend at 0x7f8baf9cfed0>"
      ]
     },
     "metadata": {},
     "execution_count": 303
    },
    {
     "output_type": "display_data",
     "data": {
      "image/png": "[encoded data removed]",
      "text/plain": [
       "<Figure size 576x288 with 1 Axes>"
      ]
     },
     "metadata": {
      "needs_background": "light"
     }
    }
   ]
  },
  {
   "cell_type": "code",
   "source": [
    "\n",
    "new_onesVector_x_test_2nd=np.ones((np.size(testxmatrix), 1))\n",
    "x_test_3rd_2e = np.column_stack((new_onesVector_x_test_2nd, testxmatrix ))\n",
    "x_testoxx2_2e=np.column_stack((x_test_3rd_2e, np.square(testxmatrix) ))\n",
    "x_testoxx2x3=np.column_stack((x_testoxx2_2e,np.power(testxmatrix,3)))\n"
   ],
   "metadata": {
    "id": "haVFFVnYrQ0S"
   },
   "execution_count": 304,
   "outputs": []
  },
  {
   "cell_type": "markdown",
   "source": [
    "**Test error (3rd-order polynomial regression)**"
   ],
   "metadata": {
    "id": "gLiMz91StVij"
   }
  },
  {
   "cell_type": "code",
   "source": [
    "err1_2e_test=np.dot(x_testoxx2x3,x3weightvector_2e)-testymatrix\n",
    "err2_2e_test=np.square(err1_2e_test)\n",
    "err2_2e_test.mean()"
   ],
   "metadata": {
    "id": "EHk0Gr4NsO1Q",
    "colab": {
     "base_uri": "https://localhost:8080/"
    },
    "outputId": "8a83db3f-7adf-4757-e30f-8aa8dca36783"
   },
   "execution_count": 305,
   "outputs": [
    {
     "output_type": "execute_result",
     "data": {
      "text/plain": [
       "0.05641833004387529"
      ]
     },
     "metadata": {},
     "execution_count": 305
    }
   ]
  },
  {
   "cell_type": "markdown",
   "source": [
    "**Train Error (3rd-order polynomial regression)**"
   ],
   "metadata": {
    "id": "UV0Vk-wH2Y1Q"
   }
  },
  {
   "cell_type": "code",
   "source": [
    "err1_2e_train=np.dot(trainoxx2x3,x3weightvector_2e)-vectorMatrixy\n",
    "err2_2e_train=np.square(err1_2e_train)\n",
    "err2_2e_train.mean()"
   ],
   "metadata": {
    "id": "NWFTTZQktYiq",
    "colab": {
     "base_uri": "https://localhost:8080/"
    },
    "outputId": "729a71c8-41a2-4f82-bfb4-34cb16ccab92"
   },
   "execution_count": 306,
   "outputs": [
    {
     "output_type": "execute_result",
     "data": {
      "text/plain": [
       "0.039228746611142354"
      ]
     },
     "metadata": {},
     "execution_count": 306
    }
   ]
  },
  {
   "cell_type": "markdown",
   "source": [],
   "metadata": {
    "id": "zbtJ-nt4QYNI"
   }
  },
  {
   "cell_type": "markdown",
   "source": [],
   "metadata": {
    "id": "s_ZN2nVguD7u"
   }
  },
  {
   "cell_type": "code",
   "source": [
    "x4=np.square(x2)\n",
    "x3=np.power(vector2,3)\n",
    "x4x3 = np.column_stack((x4,x3 ))\n",
    "x4x3x2= np.column_stack((x4x3,x2 ))\n",
    "x4x3x2x1=np.column_stack((x4x3x2,vector2))\n",
    "x4x3x2x1ones=np.column_stack((x4x3x2x1,onesVector))\n",
    "#REVERSE To get final 4th order polynomial\n",
    "x4x3x2x1ones=np.fliplr(x4x3x2x1ones)\n",
    "\n",
    "\n",
    "x4param1_2f=np.dot(x4x3x2x1ones.transpose(),x4x3x2x1ones)\n",
    "inv_arr_x4_2f=np.linalg.inv(x4param1_2f)\n",
    "x4param2_2f=np.dot(x4x3x2x1ones.transpose(),vectorMatrixy)\n",
    "\n",
    "x4weightvector_2f=np.dot(inv_arr_x4_2f,x4param2_2f)\n"
   ],
   "metadata": {
    "id": "88YS51fLuA_j"
   },
   "execution_count": 307,
   "outputs": []
  },
  {
   "cell_type": "markdown",
   "source": [
    "**Weight Vector (4th Order)**"
   ],
   "metadata": {
    "id": "FX1hMtN6_Xpx"
   }
  },
  {
   "cell_type": "code",
   "source": [
    "x4weightvector_2f"
   ],
   "metadata": {
    "colab": {
     "base_uri": "https://localhost:8080/"
    },
    "id": "bSKFwKmv_Wqu",
    "outputId": "1f07c9ff-7890-4301-e6c2-fbe589c8cd72"
   },
   "execution_count": 308,
   "outputs": [
    {
     "output_type": "execute_result",
     "data": {
      "text/plain": [
       "matrix([[ 1.89643657],\n",
       "        [ 6.79940213],\n",
       "        [-4.10194886],\n",
       "        [ 0.9640118 ],\n",
       "        [-0.07096305]])"
      ]
     },
     "metadata": {},
     "execution_count": 308
    }
   ]
  },
  {
   "cell_type": "code",
   "source": [
    "xnew4_2f=np.power(x_new,3)\n",
    "xnew2_2f=np.square(x_new)\n",
    "size_xnew4_2f=np.size(x_new,0)\n",
    "ones_2f_xnew=np.ones((size_xnew4_2f,1))\n",
    "\n",
    "xnew_ox_2f=np.column_stack((ones_2f_xnew,x_new))\n",
    "xnew_oxx2_2f=np.column_stack((xnew_ox_2e,np.square(x_new)))\n",
    "xnew_oxx2x3_2f=np.column_stack((xnew_oxx2_2f,xnew4_2f))\n",
    "xnew_oxx2x3x4_2f=np.column_stack((xnew_oxx2x3_2f,np.square(xnew2_2f)))"
   ],
   "metadata": {
    "id": "GEMgfQO70EaF"
   },
   "execution_count": 309,
   "outputs": []
  },
  {
   "cell_type": "code",
   "source": [
    "newLR4_2f=np.dot(xnew_oxx2x3x4_2f,x4weightvector_2f)"
   ],
   "metadata": {
    "id": "JEXHmcJp06h2"
   },
   "execution_count": 310,
   "outputs": []
  },
  {
   "cell_type": "markdown",
   "source": [
    "**Plotting both the 4th order polynomial regression line\n",
    "and the training data on the same graph**"
   ],
   "metadata": {
    "id": "QpbDuj02cxfW"
   }
  },
  {
   "cell_type": "code",
   "source": [
    "plt.plot(x_new,newLR4_2f,color='r',label='4th order polynomial regression')\n",
    "plt.scatter(xtrain,ytrain,label='train data')\n",
    "plt.xlabel(\"x\")\n",
    "plt.ylabel(\"y\")\n",
    "plt.legend()\n"
   ],
   "metadata": {
    "id": "fQUtkBpA1YjR",
    "colab": {
     "base_uri": "https://localhost:8080/",
     "height": 297
    },
    "outputId": "9e250e63-bebf-45dc-c09a-4d531759a089"
   },
   "execution_count": 311,
   "outputs": [
    {
     "output_type": "execute_result",
     "data": {
      "text/plain": [
       "<matplotlib.legend.Legend at 0x7f8baec473d0>"
      ]
     },
     "metadata": {},
     "execution_count": 311
    },
    {
     "output_type": "display_data",
     "data": {
      "image/png": "[encoded data removed]",
      "text/plain": [
       "<Figure size 576x288 with 1 Axes>"
      ]
     },
     "metadata": {
      "needs_background": "light"
     }
    }
   ]
  },
  {
   "cell_type": "code",
   "source": [
    "testxmatrixsq=np.square(testxmatrix)\n",
    "x_test_4th_2f = np.column_stack((new_onesVector_x_test_2nd, testxmatrix ))\n",
    "x_testoxx2_2f=np.column_stack((x_test_4th_2f, np.square(testxmatrix) ))\n",
    "x_testoxx2x3_2f=np.column_stack((x_testoxx2_2f,np.power(testxmatrix,3)))\n",
    "x_testoxx2x3x4_2f=np.column_stack((x_testoxx2x3_2f,np.square(testxmatrixsq)))\n"
   ],
   "metadata": {
    "id": "xU07WnKV1rig"
   },
   "execution_count": 312,
   "outputs": []
  },
  {
   "cell_type": "markdown",
   "source": [
    "**Plotting both the 4th order polynomial regression line\n",
    "and the test data on the same graph**"
   ],
   "metadata": {
    "id": "iPbJwAHNZxIQ"
   }
  },
  {
   "cell_type": "code",
   "source": [
    "plt.plot(x_new,newLR4_2f,color='r',label='4th order polynomial regression')\n",
    "plt.scatter(xtest,ytest,label='test data')\n",
    "plt.xlabel(\"x\")\n",
    "plt.ylabel(\"y\")\n",
    "plt.legend()"
   ],
   "metadata": {
    "colab": {
     "base_uri": "https://localhost:8080/",
     "height": 297
    },
    "id": "BAoVcRiqZmD-",
    "outputId": "6ecbe85f-99a4-49bc-d8f5-1ef316fbffb2"
   },
   "execution_count": 313,
   "outputs": [
    {
     "output_type": "execute_result",
     "data": {
      "text/plain": [
       "<matplotlib.legend.Legend at 0x7f8baec3cd10>"
      ]
     },
     "metadata": {},
     "execution_count": 313
    },
    {
     "output_type": "display_data",
     "data": {
      "image/png": "[encoded data removed]",
      "text/plain": [
       "<Figure size 576x288 with 1 Axes>"
      ]
     },
     "metadata": {
      "needs_background": "light"
     }
    }
   ]
  },
  {
   "cell_type": "markdown",
   "source": [
    "**Test Error ( 4th-order polynomial regression)**"
   ],
   "metadata": {
    "id": "KGLvzEoW28Kb"
   }
  },
  {
   "cell_type": "code",
   "source": [
    "err1_2f_test=np.dot(x_testoxx2x3x4_2f,x4weightvector_2f)-testymatrix\n",
    "err2_2f_test=np.square(err1_2f_test)\n",
    "err2_2f_test.mean()"
   ],
   "metadata": {
    "id": "BxvkiW6s2eig",
    "colab": {
     "base_uri": "https://localhost:8080/"
    },
    "outputId": "f0838808-b08b-4865-c112-2072d24e1362"
   },
   "execution_count": 314,
   "outputs": [
    {
     "output_type": "execute_result",
     "data": {
      "text/plain": [
       "0.12722197194806126"
      ]
     },
     "metadata": {},
     "execution_count": 314
    }
   ]
  },
  {
   "cell_type": "markdown",
   "source": [
    "**Train Error ( 4th-order polynomial regression)**"
   ],
   "metadata": {
    "id": "2v1rVuYd2_v7"
   }
  },
  {
   "cell_type": "code",
   "source": [
    "err1_2f_train=np.dot(x4x3x2x1ones,x4weightvector_2f)-vectorMatrixy\n",
    "err1_2f_train=np.square(err1_2f_train)\n",
    "err1_2f_train.mean()"
   ],
   "metadata": {
    "id": "-RmuECqc27Eq",
    "colab": {
     "base_uri": "https://localhost:8080/"
    },
    "outputId": "04d1a918-f60d-4c15-cb27-f88b19150241"
   },
   "execution_count": 315,
   "outputs": [
    {
     "output_type": "execute_result",
     "data": {
      "text/plain": [
       "0.03564470724439977"
      ]
     },
     "metadata": {},
     "execution_count": 315
    }
   ]
  },
  {
   "cell_type": "markdown",
   "source": [
    "\n",
    "For linear regression training error= 0.50, test error=0.44. For 2nd order polynomial regression training error=0.20, test error=0.85. For 3rd order polynimal regression train error=0.039, test error=0.056.For 4th order polynomial regression,training error=0.0356, test error=0.127. If we observe the case of training data, the average error is lower than the linear regression, 2nd order polynomial and 3rd order polynomial. And so in this case, 4th order polynomial is the best for fitting the data. But if we observe the  case of test data, 3rd order polynomial gives the lowest average. For this reason, in the case of test data, we can say that 3rd order polynomial is the best for fitting the data."
   ],
   "metadata": {
    "id": "AGf0MQKWQ30k"
   }
  },
  {
   "cell_type": "markdown",
   "source": [
    "\n",
    "\n",
    "```\n",
    "`# This is formatted as code`\n",
    "```\n",
    "\n"
   ],
   "metadata": {
    "id": "q-O9dvfRtDYQ"
   }
  },
  {
   "cell_type": "code",
   "source": [],
   "metadata": {
    "id": "TVG8gS8SJkw5",
    "pycharm": {
     "name": "#%% m\n"
    }
   },
   "execution_count": null,
   "outputs": []
  },
  {
   "cell_type": "code",
   "source": [
    "\n",
    "#Identity Matrix\n",
    "five_identity=np.identity(5)\n",
    "five_identity[0,0]=0\n",
    "\n",
    "x4x3x2x1ones_transpose = x4x3x2x1ones.transpose()\n"
   ],
   "metadata": {
    "id": "Xj0hC6r0HaUp"
   },
   "execution_count": 316,
   "outputs": []
  },
  {
   "cell_type": "code",
   "source": [
    "testx2=np.square(testxmatrix)\n",
    "testx4=np.square(testx2)\n",
    "testx3=np.power(testxmatrix,3)\n",
    "testx4x3= np.column_stack((testx4,testx3))\n",
    "testx4x3x2=np.column_stack((testx4x3,testx2))\n",
    "testx4x3x2x1=np.column_stack((testx4x3x2,testxmatrix))\n",
    "numOfrowstestx=np.size(testxmatrix,0)\n",
    "fortest_ones=np.ones((numOfrowstestx,1))\n",
    "testx4x3x2x1_ones=np.column_stack((testx4x3x2x1,fortest_ones))\n",
    "testx4x3x2x1_ones_trans=testx4x3x2x1_ones.transpose()\n",
    "testx4x3x2x1_ones=np.fliplr(testx4x3x2x1_ones)"
   ],
   "metadata": {
    "id": "-3KNt528P8Cv"
   },
   "execution_count": 317,
   "outputs": []
  },
  {
   "cell_type": "code",
   "source": [
    "lamb=[0.01, 0.1, 1, 10, 100, 1000]\n",
    "w=[]\n",
    "E=[]\n",
    "ETest=[]\n",
    "xTxc= np.dot(x4x3x2x1ones_transpose,x4x3x2x1ones)\n",
    "xTyc=np.dot(x4x3x2x1ones_transpose,vectorMatrixy)\n",
    "testxTxc=np.dot(testx4x3x2x1_ones_trans,testx4x3x2x1_ones)\n",
    "testxTyc=np.dot(testx4x3x2x1_ones_trans,testymatrix)\n",
    "for i in lamb: \n",
    "  lambi=np.dot(i,five_identity)\n",
    "  wparam1=xTxc+ lambi\n",
    "  wparam1_inverse=np.linalg.inv(wparam1)\n",
    "  w_var=np.dot(wparam1_inverse,xTyc)\n",
    "  w.append(w_var)\n",
    "  \n",
    "  wTxiques3=np.dot(x4x3x2x1ones,w_var)\n",
    "  wTxiques3_yi= wTxiques3-vectorMatrixy\n",
    "  wTxiques3_yisq=np.square(wTxiques3_yi)\n",
    "  Errorq3=wTxiques3_yisq.mean()\n",
    "  E.append(Errorq3)\n",
    "\n",
    "  test_wTxiques3=np.dot(testx4x3x2x1_ones,w_var)\n",
    "  test_wTxiques3_yi=test_wTxiques3-testymatrix\n",
    "  test_wTxiques3_yisq=np.square(test_wTxiques3_yi)\n",
    "  ETest3=test_wTxiques3_yisq.mean()\n",
    "  ETest.append(ETest3)\n"
   ],
   "metadata": {
    "id": "AFBJ5IAi2p_C"
   },
   "execution_count": 318,
   "outputs": []
  },
  {
   "cell_type": "markdown",
   "source": [
    "**Weight Matrix**"
   ],
   "metadata": {
    "id": "jwLwZzVjBAtY"
   }
  },
  {
   "cell_type": "code",
   "source": [
    "w"
   ],
   "metadata": {
    "id": "XckiAFaVOuNd",
    "colab": {
     "base_uri": "https://localhost:8080/"
    },
    "outputId": "b8de3ede-b6b1-4ad8-85db-29a91c995dd4"
   },
   "execution_count": 319,
   "outputs": [
    {
     "output_type": "execute_result",
     "data": {
      "text/plain": [
       "[matrix([[ 2.01558646],\n",
       "         [ 6.12222833],\n",
       "         [-3.29909683],\n",
       "         [ 0.63319474],\n",
       "         [-0.02664967]]), matrix([[ 2.43699188],\n",
       "         [ 3.84906176],\n",
       "         [-0.69196348],\n",
       "         [-0.41685844],\n",
       "         [ 0.11167165]]), matrix([[ 3.01965691],\n",
       "         [ 1.87366895],\n",
       "         [ 0.68982774],\n",
       "         [-0.72231191],\n",
       "         [ 0.12719229]]), matrix([[ 3.76125745],\n",
       "         [ 0.5176622 ],\n",
       "         [ 0.34521031],\n",
       "         [-0.06067004],\n",
       "         [-0.0103016 ]]), matrix([[ 4.1963179 ],\n",
       "         [ 0.10034664],\n",
       "         [ 0.12187413],\n",
       "         [ 0.10302866],\n",
       "         [-0.03070311]]), matrix([[4.51415690e+00],\n",
       "         [1.56866218e-02],\n",
       "         [2.40654511e-02],\n",
       "         [2.82015138e-02],\n",
       "         [1.66392407e-03]])]"
      ]
     },
     "metadata": {},
     "execution_count": 319
    }
   ]
  },
  {
   "cell_type": "markdown",
   "source": [
    "**Test Error**"
   ],
   "metadata": {
    "id": "H-pWZ9l_Agn5"
   }
  },
  {
   "cell_type": "code",
   "source": [
    "ETest"
   ],
   "metadata": {
    "colab": {
     "base_uri": "https://localhost:8080/"
    },
    "id": "L720xnPLAdwm",
    "outputId": "dffc4982-5eba-484c-d16a-2efc7121b152"
   },
   "execution_count": 320,
   "outputs": [
    {
     "output_type": "execute_result",
     "data": {
      "text/plain": [
       "[0.0818755542771015,\n",
       " 0.057022424266299596,\n",
       " 0.10362435733033437,\n",
       " 0.8992500727749049,\n",
       " 0.817244761210811,\n",
       " 0.5330302440962493]"
      ]
     },
     "metadata": {},
     "execution_count": 320
    }
   ]
  },
  {
   "cell_type": "markdown",
   "source": [
    "**Training error**"
   ],
   "metadata": {
    "id": "JTW5KAGUAorx"
   }
  },
  {
   "cell_type": "code",
   "source": [
    "E"
   ],
   "metadata": {
    "colab": {
     "base_uri": "https://localhost:8080/"
    },
    "id": "2eHvgdj8AkGX",
    "outputId": "1ef31c1c-2016-4819-e1fc-4905938defe0"
   },
   "execution_count": 321,
   "outputs": [
    {
     "output_type": "execute_result",
     "data": {
      "text/plain": [
       "[0.037395995183475125,\n",
       " 0.06844372003860674,\n",
       " 0.15265564122522832,\n",
       " 0.44941259230577674,\n",
       " 0.6541322428423664,\n",
       " 0.8703848180845206]"
      ]
     },
     "metadata": {},
     "execution_count": 321
    }
   ]
  },
  {
   "cell_type": "markdown",
   "source": [
    "**Plotting the training and test error (averaged over all instances) using Eq. (1) as a function of λ.**"
   ],
   "metadata": {
    "id": "QmWnPwHEeVjD"
   }
  },
  {
   "cell_type": "code",
   "source": [
    "plt.plot(lamb,E,color=\"r\",label='Train Error')\n",
    "plt.plot(lamb,ETest, label='Test Error')\n",
    "plt.xscale(\"log\")\n",
    "plt.grid()\n",
    "plt.xlabel('lambda')\n",
    "plt.ylabel('Error')\n",
    "\n",
    "plt.legend()\n",
    "\n",
    "\n"
   ],
   "metadata": {
    "id": "AiFNjSlkYlc7",
    "colab": {
     "base_uri": "https://localhost:8080/",
     "height": 301
    },
    "outputId": "c30e2f02-07f9-4f43-85a4-805f04be75c8"
   },
   "execution_count": 322,
   "outputs": [
    {
     "output_type": "execute_result",
     "data": {
      "text/plain": [
       "<matplotlib.legend.Legend at 0x7f8baf6deb10>"
      ]
     },
     "metadata": {},
     "execution_count": 322
    },
    {
     "output_type": "display_data",
     "data": {
      "image/png": "[encoded data removed]",
      "text/plain": [
       "<Figure size 576x288 with 1 Axes>"
      ]
     },
     "metadata": {
      "needs_background": "light"
     }
    }
   ]
  },
  {
   "cell_type": "markdown",
   "source": [
    "**Plotting the value of each weight parameter (including the bias term w0) as a function of λ.**"
   ],
   "metadata": {
    "id": "i7k2dz2HmoV6"
   }
  },
  {
   "cell_type": "markdown",
   "source": [
    "w1=np.transpose(w)\n",
    "w1_b=np.asmatrix(w1)\n",
    "w1_b=w1_b.transpose()\n",
    "plt.plot(lamb,w1_b[:,0],label='weight[0]')\n",
    "plt.plot(lamb,w1_b[:,1],label='weight[1]')\n",
    "plt.plot(lamb,w1_b[:,2],label='weight[2]')\n",
    "plt.plot(lamb,w1_b[:,3],label='weight[3]')\n",
    "plt.plot(lamb,w1_b[:,4],label='weight[4]')\n",
    "plt.xlabel(\"lambda\")\n",
    "plt.ylabel(\"weights\")\n",
    "plt.xscale(\"log\")\n",
    "plt.legend()"
   ],
   "metadata": {
    "id": "hwKe-n-i5O5s"
   }
  },
  {
   "cell_type": "code",
   "source": [
    "# **3(C)**"
   ],
   "metadata": {
    "id": "77U70xZtT2LK",
    "colab": {
     "base_uri": "https://localhost:8080/"
    },
    "outputId": "10070042-8252-4973-ac27-39d7ebb8d2eb"
   },
   "execution_count": 324,
   "outputs": [
    {
     "output_type": "execute_result",
     "data": {
      "text/plain": [
       "[matrix([[5.3938401, 5.7627081, 6.3140725, 5.4595323, 5.5333646,\n",
       "          5.6298668, 5.458995 , 5.2801604]]),\n",
       " matrix([[5.5709419, 4.3413049, 5.9495985, 5.5462953, 3.6754252,\n",
       "          4.7036488, 5.3836359, 2.022911 ]]),\n",
       " matrix([[5.7004318, 3.2349059, 5.9727933, 5.3129959, 2.5746746,\n",
       "          5.9573136, 6.0114712, 5.9655043]]),\n",
       " matrix([[5.7857737, 5.7238219, 6.1464115, 2.0878052, 5.0625666,\n",
       "          5.8471278, 5.5380836, 4.4394664]]),\n",
       " matrix([[2.7094697, 5.7689005, 5.2722319, 5.7828702, 4.5893916,\n",
       "          3.5514502, 5.6302306, 5.986479 ]])]"
      ]
     },
     "metadata": {},
     "execution_count": 324
    }
   ]
  },
  {
   "cell_type": "code",
   "source": [
    "**Splitting Dataset into five fold**"
   ],
   "metadata": {
    "id": "OG84Fa8TC1wN"
   },
   "execution_count": 325,
   "outputs": []
  },
  {
   "cell_type": "code",
   "source": [
    "X_train_b_merge=[]\n",
    "y_train_b_merge=[]\n",
    "temp1=[]\n",
    "ytemp1=[]\n",
    "i = 0\n",
    "while i < 8:\n",
    "    temp1.append(vector2[i][0])\n",
    "    ytemp1.append(ytrain[i])\n",
    "    i += 1\n",
    "X_train_b_merge.append(np.asmatrix(temp1))\n",
    "y_train_b_merge.append(np.asmatrix(ytemp1))\n",
    "\n",
    "\n",
    "temp2=[]\n",
    "ytemp2=[]\n",
    "i = 8\n",
    "while i < 16:\n",
    "    temp2.append(vector2[i][0])\n",
    "    ytemp2.append(ytrain[i])\n",
    "    i += 1\n",
    "X_train_b_merge.append(np.asmatrix(temp2))\n",
    "y_train_b_merge.append(np.asmatrix(ytemp2))\n",
    "\n",
    "\n",
    "temp3=[]\n",
    "ytemp3=[]\n",
    "i = 16\n",
    "while i < 24:\n",
    "    temp3.append(vector2[i][0])\n",
    "    ytemp3.append(ytrain[i])\n",
    "    i += 1\n",
    "X_train_b_merge.append(np.asmatrix(temp3))\n",
    "y_train_b_merge.append(np.asmatrix(ytemp3))\n",
    "\n",
    "\n",
    "temp4=[]\n",
    "ytemp4=[]\n",
    "i = 24\n",
    "while i < 32:\n",
    "    temp4.append(vector2[i][0])\n",
    "    ytemp4.append(ytrain[i])\n",
    "    i += 1\n",
    "X_train_b_merge.append(np.asmatrix(temp4))\n",
    "y_train_b_merge.append(np.asmatrix(ytemp4))\n",
    "\n",
    "temp5=[]\n",
    "ytemp5=[]\n",
    "i = 32\n",
    "while i < 40:\n",
    "    temp5.append(vector2[i][0])\n",
    "    ytemp5.append(ytrain[i])\n",
    "    i += 1\n",
    "X_train_b_merge.append(np.asmatrix(temp5))\n",
    "y_train_b_merge.append(np.asmatrix(ytemp5))\n",
    "y_train_b_merge\n",
    "\n",
    "\n",
    "      \n",
    "  \n"
   ],
   "metadata": {
    "id": "GqFrIbNzjYhz"
   },
   "execution_count": 326,
   "outputs": []
  },
  {
   "cell_type": "code",
   "source": [
    "#Taking four matrix as input, then merging them and  returning polynomial\n",
    "def kfoldPolynomial(mat1, mat2, mat3, mat4):\n",
    "      mat1=mat1.transpose()\n",
    "      mat2=mat2.transpose()\n",
    "      mat3=mat3.transpose()\n",
    "      mat4=mat4.transpose()\n",
    "      k_x=np.concatenate([mat1,mat2,mat3,mat4])\n",
    "      ##polynomial\n",
    "      numOfrows_k_x=np.size(k_x,0)\n",
    "      k_xones=np.ones((numOfrows_k_x,1))\n",
    "      k_x2=np.square(k_x)\n",
    "      k_x4=np.square(k_x2)\n",
    "      k_x3=np.power(k_x,3)\n",
    "      ones_k_x=np.column_stack((k_xones,k_x))\n",
    "      ones_k_xx2=np.column_stack((ones_k_x,k_x2))\n",
    "      ones_k_xx2x3=np.column_stack((ones_k_xx2,k_x3))\n",
    "      ones_k_xx2x3x4=np.column_stack((ones_k_xx2x3,k_x4))\n",
    "      return ones_k_xx2x3x4\n",
    "\n"
   ],
   "metadata": {
    "id": "ZJwW81xKle-e"
   },
   "execution_count": 327,
   "outputs": []
  },
  {
   "cell_type": "code",
   "source": [
    "#Taking Matrix as input and returning polynomial\n",
    "def TestkfoldPolynomial(mattest):\n",
    "    \n",
    "      k_x=mattest.transpose()\n",
    "      ##polynomial\n",
    "      numOfrows_k_x=np.size(k_x,0)\n",
    "      k_xones=np.ones((numOfrows_k_x,1))\n",
    "      k_x2=np.square(k_x)\n",
    "      k_x4=np.square(k_x2)\n",
    "      k_x3=np.power(k_x,3)\n",
    "      ones_k_x=np.column_stack((k_xones,k_x))\n",
    "      ones_k_xx2=np.column_stack((ones_k_x,k_x2))\n",
    "      ones_k_xx2x3=np.column_stack((ones_k_xx2,k_x3))\n",
    "      ones_k_xx2x3x4=np.column_stack((ones_k_xx2x3,k_x4))\n",
    "      return ones_k_xx2x3x4"
   ],
   "metadata": {
    "id": "sRUOA_vET6qW"
   },
   "execution_count": 328,
   "outputs": []
  },
  {
   "cell_type": "code",
   "source": [
    "# Taking four matrix as input and merging rows\n",
    "def merge_row(mat1, mat2, mat3, mat4):\n",
    "      mat1=mat1.transpose()\n",
    "      mat2=mat2.transpose()\n",
    "      mat3=mat3.transpose()\n",
    "      mat4=mat4.transpose()\n",
    "      k_y=np.concatenate([mat1,mat2,mat3,mat4])\n",
    "      return k_y"
   ],
   "metadata": {
    "id": "Es5VBqGy-CzP"
   },
   "execution_count": 329,
   "outputs": []
  },
  {
   "cell_type": "markdown",
   "source": [
    "#Error calculation function\n",
    "def error_calculation(mat_x, mat_y, test_mat_x, test_mat_y):\n",
    "  \n",
    "  xTxc_mat= np.dot(mat_x.transpose(),mat_x) #X(T).X\n",
    "  xTyc_mat=np.dot(mat_x.transpose(),mat_y)\n",
    "  www=[]\n",
    "  EEE=[]\n",
    "\n",
    "  for i in lamb:\n",
    "           lambi=np.dot(i,five_identity)  #lambda*I\n",
    "           wparam1=xTxc_mat+ lambi\n",
    "           wparam1_inverse=np.linalg.inv(wparam1)\n",
    "           w_var=np.dot(wparam1_inverse,xTyc_mat)\n",
    "           www.append(w_var)\n",
    "\n",
    "           test_wTxiques3=np.dot(test_mat_x,w_var)\n",
    "           test_wTxiques3_yi=test_wTxiques3-test_mat_y\n",
    "           test_wTxiques3_yisq=np.square(test_wTxiques3_yi)\n",
    "           ETest3=test_wTxiques3_yisq.mean()\n",
    "           EEE.append(ETest3)\n",
    "           \n",
    "  return EEE\n"
   ],
   "metadata": {
    "id": "M74_rptsWJzx"
   }
  },
  {
   "cell_type": "code",
   "source": [
    "#Weight calculation function\n",
    "def weight_calculation(mat_x, mat_y, test_mat_x, test_mat_y):\n",
    "  \n",
    "  xTxc_mat= np.dot(mat_x.transpose(),mat_x) #X(T).X\n",
    "  xTyc_mat=np.dot(mat_x.transpose(),mat_y)\n",
    "  www=[]\n",
    "  EEE=[]\n",
    "\n",
    "  for i in lamb:\n",
    "           lambi=np.dot(i,five_identity)  #lambda*I\n",
    "           wparam1=xTxc_mat+ lambi\n",
    "           wparam1_inverse=np.linalg.inv(wparam1)\n",
    "           w_var=np.dot(wparam1_inverse,xTyc_mat)\n",
    "           www.append(w_var)\n",
    "\n",
    "        \n",
    "           \n",
    "  return www"
   ],
   "metadata": {
    "id": "KwA5pj8nUdbE",
    "colab": {
     "base_uri": "https://localhost:8080/"
    },
    "outputId": "49dcaa57-689b-49da-ad89-7adc8364a221"
   },
   "execution_count": 330,
   "outputs": [
    {
     "output_type": "execute_result",
     "data": {
      "text/plain": [
       "[0.050014252426640746,\n",
       " 0.07860404170157856,\n",
       " 0.10682971205676621,\n",
       " 0.2734021680492785,\n",
       " 0.4990106270299266,\n",
       " 0.8036647675227269]"
      ]
     },
     "metadata": {},
     "execution_count": 330
    }
   ]
  },
  {
   "cell_type": "markdown",
   "source": [
    "**Leaving 5th group as validation set**"
   ],
   "metadata": {
    "id": "q2P7Ql33WYny"
   }
  },
  {
   "cell_type": "code",
   "source": [
    "first_app_x= kfoldPolynomial(X_train_b_merge[0],X_train_b_merge[1],X_train_b_merge[2],X_train_b_merge[3])\n",
    "first_app_y=merge_row(y_train_b_merge[0],y_train_b_merge[1],y_train_b_merge[2],y_train_b_merge[3])\n",
    "first_app_xtest=TestkfoldPolynomial(X_train_b_merge[4])\n",
    "first_app_ytest=y_train_b_merge[4].transpose()\n",
    "first_app_error=error_calculation(first_app_x,first_app_y,first_app_xtest,first_app_ytest)\n",
    "first_app_error\n"
   ],
   "metadata": {
    "id": "u5_0Tk1OWR_B",
    "colab": {
     "base_uri": "https://localhost:8080/"
    },
    "outputId": "9e0bee5d-16bf-4e5a-f511-9d10c716b8a0"
   },
   "execution_count": 331,
   "outputs": [
    {
     "output_type": "execute_result",
     "data": {
      "text/plain": [
       "[0.012404944327378079,\n",
       " 0.07519760965916429,\n",
       " 0.27766714256317054,\n",
       " 0.7896357943557142,\n",
       " 1.0576285216386523,\n",
       " 1.2851844393342722]"
      ]
     },
     "metadata": {},
     "execution_count": 331
    }
   ]
  },
  {
   "cell_type": "markdown",
   "source": [
    "**Leaving 4th group as validation set**"
   ],
   "metadata": {
    "id": "idLR1gRbXC3U"
   }
  },
  {
   "cell_type": "code",
   "source": [
    "second_app_x= kfoldPolynomial(X_train_b_merge[0],X_train_b_merge[1],X_train_b_merge[2],X_train_b_merge[4])\n",
    "second_app_y=merge_row(y_train_b_merge[0],y_train_b_merge[1],y_train_b_merge[2],y_train_b_merge[4])\n",
    "second_app_xtest=TestkfoldPolynomial(X_train_b_merge[3])\n",
    "second_app_ytest=y_train_b_merge[3].transpose()\n",
    "second_app_error=error_calculation(second_app_x,second_app_y,second_app_xtest,second_app_ytest)\n",
    "second_app_error"
   ],
   "metadata": {
    "id": "422o1D4NW9Is",
    "colab": {
     "base_uri": "https://localhost:8080/"
    },
    "outputId": "241be499-f56f-4f37-a5e1-9da1a59812c5"
   },
   "execution_count": 332,
   "outputs": [
    {
     "output_type": "execute_result",
     "data": {
      "text/plain": [
       "[0.07676805651869575,\n",
       " 0.0831167711092633,\n",
       " 0.1634703686544724,\n",
       " 0.4794740096948813,\n",
       " 0.7890735184094704,\n",
       " 1.0910871709808543]"
      ]
     },
     "metadata": {},
     "execution_count": 332
    }
   ]
  },
  {
   "cell_type": "markdown",
   "source": [
    "**Leaving 3rd group as validation set**"
   ],
   "metadata": {
    "id": "tkt617coXsgc"
   }
  },
  {
   "cell_type": "code",
   "source": [
    "third_app_x= kfoldPolynomial(X_train_b_merge[0],X_train_b_merge[1],X_train_b_merge[3],X_train_b_merge[4])\n",
    "third_app_y=merge_row(y_train_b_merge[0],y_train_b_merge[1],y_train_b_merge[3],y_train_b_merge[4])\n",
    "third_app_xtest=TestkfoldPolynomial(X_train_b_merge[2])\n",
    "third_app_ytest=y_train_b_merge[2].transpose()\n",
    "third_app_error=error_calculation(third_app_x,third_app_y,third_app_xtest,third_app_ytest)\n",
    "third_app_error"
   ],
   "metadata": {
    "id": "sVaGVgxRpBNs",
    "colab": {
     "base_uri": "https://localhost:8080/"
    },
    "outputId": "2e89f6c8-9c44-4a53-93e5-63d6e9441793"
   },
   "execution_count": 333,
   "outputs": [
    {
     "output_type": "execute_result",
     "data": {
      "text/plain": [
       "[0.050391551979662864,\n",
       " 0.12519464671986705,\n",
       " 0.21667361481304345,\n",
       " 0.5552332569232082,\n",
       " 0.8153164651240619,\n",
       " 1.0985339064090385]"
      ]
     },
     "metadata": {},
     "execution_count": 333
    }
   ]
  },
  {
   "cell_type": "markdown",
   "source": [
    "**Leaving 2nd group as validation set**"
   ],
   "metadata": {
    "id": "2nBsadXcYRoP"
   }
  },
  {
   "cell_type": "code",
   "source": [
    "forth_app_x= kfoldPolynomial(X_train_b_merge[0],X_train_b_merge[2],X_train_b_merge[3],X_train_b_merge[4])\n",
    "forth_app_y=merge_row(y_train_b_merge[0],y_train_b_merge[2],y_train_b_merge[3],y_train_b_merge[4])\n",
    "forth_app_xtest=TestkfoldPolynomial(X_train_b_merge[1])\n",
    "forth_app_ytest=y_train_b_merge[1].transpose()\n",
    "forth_app_error=error_calculation(forth_app_x,forth_app_y,forth_app_xtest,forth_app_ytest)\n",
    "forth_app_error"
   ],
   "metadata": {
    "id": "K2ytwUCmG7D4",
    "colab": {
     "base_uri": "https://localhost:8080/"
    },
    "outputId": "9d3a78e6-3fe0-45f4-cd49-2ad122a96e4a"
   },
   "execution_count": 334,
   "outputs": [
    {
     "output_type": "execute_result",
     "data": {
      "text/plain": [
       "[0.05381501627817799,\n",
       " 0.0758419368165977,\n",
       " 0.22067739688911744,\n",
       " 0.6071361032762206,\n",
       " 0.5211429910156413,\n",
       " 0.38733383325958914]"
      ]
     },
     "metadata": {},
     "execution_count": 334
    }
   ]
  },
  {
   "cell_type": "markdown",
   "source": [
    "**Leaving 1st group as validation set**"
   ],
   "metadata": {
    "id": "qLEbSHWxYpf3"
   }
  },
  {
   "cell_type": "code",
   "source": [
    "fifth_app_x= kfoldPolynomial(X_train_b_merge[1],X_train_b_merge[2],X_train_b_merge[3],X_train_b_merge[4])\n",
    "fifth_app_y=merge_row(y_train_b_merge[1],y_train_b_merge[2],y_train_b_merge[3],y_train_b_merge[4])\n",
    "fifth_app_xtest=TestkfoldPolynomial(X_train_b_merge[0])\n",
    "fifth_app_ytest=y_train_b_merge[0].transpose()\n",
    "fifth_app_error=error_calculation(fifth_app_x,fifth_app_y,fifth_app_xtest,fifth_app_ytest)\n",
    "fifth_app_error"
   ],
   "metadata": {
    "id": "rkgdfM4wYn0T",
    "colab": {
     "base_uri": "https://localhost:8080/"
    },
    "outputId": "a3f339a3-6174-45f0-aa2e-e424deee5699"
   },
   "execution_count": 335,
   "outputs": [
    {
     "output_type": "execute_result",
     "data": {
      "text/plain": [
       "[0.04056563692175924,\n",
       " 0.07299250100107847,\n",
       " 0.16421970582942835,\n",
       " 0.4508135553832171,\n",
       " 0.6136953538696255,\n",
       " 0.7776340195844135]"
      ]
     },
     "metadata": {},
     "execution_count": 335
    }
   ]
  },
  {
   "cell_type": "markdown",
   "source": [
    "**Average of error values for each lambda**"
   ],
   "metadata": {
    "id": "VG24VyqUdQQY"
   }
  },
  {
   "cell_type": "code",
   "source": [
    "\n",
    "i = 0\n",
    "av_error=[]\n",
    "while i < 6:\n",
    "    sum_error=first_app_error[i]+second_app_error[i]+third_app_error[i]+forth_app_error[i]+fifth_app_error[i]\n",
    "    sum_avg_error=sum_error/6\n",
    "    av_error.append(sum_avg_error)\n",
    "    i += 1\n",
    "  \n",
    "av_error\n"
   ],
   "metadata": {
    "id": "dZL1qWvjedEs",
    "colab": {
     "base_uri": "https://localhost:8080/",
     "height": 319
    },
    "outputId": "db0d341b-4cb6-4080-a920-ace660f6b33f"
   },
   "execution_count": 336,
   "outputs": [
    {
     "output_type": "stream",
     "name": "stderr",
     "text": [
      "No handles with labels found to put in legend.\n"
     ]
    },
    {
     "output_type": "execute_result",
     "data": {
      "text/plain": [
       "<matplotlib.legend.Legend at 0x7f8bae7e8310>"
      ]
     },
     "metadata": {},
     "execution_count": 336
    },
    {
     "output_type": "display_data",
     "data": {
      "image/png": "[encoded data removed]",
      "text/plain": [
       "<Figure size 576x288 with 1 Axes>"
      ]
     },
     "metadata": {
      "needs_background": "light"
     }
    }
   ]
  },
  {
   "cell_type": "markdown",
   "source": [
    "\n"
   ],
   "metadata": {
    "id": "pdU9xPtPtA48"
   }
  },
  {
   "cell_type": "code",
   "source": [
    "xTxc_mat_best= np.dot(x4x3x2x1ones.transpose(),x4x3x2x1ones) #X(T).X\n",
    "xTyc_mat_best=np.dot(x4x3x2x1ones.transpose(),vectorMatrixy)\n",
    "www_best=[]\n",
    "\n",
    "lambibest=np.dot(0.01,five_identity)  #lambda*I\n",
    "wparam1best=xTxc_mat_best+ lambibest\n",
    "wparam1_inverse_best=np.linalg.inv(wparam1best)\n",
    "w_var_best=np.dot(wparam1_inverse_best,xTyc_mat_best)\n",
    "www_best.append(w_var)\n",
    "www_best"
   ],
   "metadata": {
    "colab": {
     "base_uri": "https://localhost:8080/"
    },
    "id": "9IYLbiWh5P2a",
    "outputId": "5b0b5324-713f-4a02-c416-d532560d0988"
   },
   "execution_count": 337,
   "outputs": [
    {
     "output_type": "execute_result",
     "data": {
      "text/plain": [
       "[matrix([[4.51415690e+00],\n",
       "         [1.56866218e-02],\n",
       "         [2.40654511e-02],\n",
       "         [2.82015138e-02],\n",
       "         [1.66392407e-03]])]"
      ]
     },
     "metadata": {},
     "execution_count": 337
    }
   ]
  },
  {
   "cell_type": "code",
   "source": [
    "newLR4_best=np.dot(xnew_oxx2x3x4_2f,x4weightvector_2f)\n"
   ],
   "metadata": {
    "id": "vV9gqbhD8A5g"
   },
   "execution_count": 338,
   "outputs": []
  },
  {
   "cell_type": "markdown",
   "source": [
    "**plot the test data and the\n",
    "l2-regularized 4th-order polynomial regression line obtained**"
   ],
   "metadata": {
    "id": "3n4qiVCClhK3"
   }
  },
  {
   "cell_type": "code",
   "source": [
    "\n",
    "plt.plot(x_new,newLR4_best,color='r',label='l2 regularized 4th order polynomial regression line')\n",
    "plt.scatter(xtest,ytest,label='test data')\n",
    "plt.xlabel('x')\n",
    "plt.ylabel('y')\n",
    "plt.legend()"
   ],
   "metadata": {
    "colab": {
     "base_uri": "https://localhost:8080/",
     "height": 297
    },
    "id": "5D_OpWdC8YOM",
    "outputId": "8abd47ef-823c-43f0-9d19-c380112cb2ca"
   },
   "execution_count": 339,
   "outputs": [
    {
     "output_type": "execute_result",
     "data": {
      "text/plain": [
       "<matplotlib.legend.Legend at 0x7f8bae754d50>"
      ]
     },
     "metadata": {},
     "execution_count": 339
    },
    {
     "output_type": "display_data",
     "data": {
      "image/png": "[encoded data removed]",
      "text/plain": [
       "<Figure size 576x288 with 1 Axes>"
      ]
     },
     "metadata": {
      "needs_background": "light"
     }
    }
   ]
  },
  {
   "cell_type": "markdown",
   "source": [
    ""
   ],
   "metadata": {
    "id": "6cOhhmTrzRK7"
   }
  }
 ]
}